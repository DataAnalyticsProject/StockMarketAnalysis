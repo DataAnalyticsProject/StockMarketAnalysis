{
 "cells": [
  {
   "cell_type": "code",
   "execution_count": 5,
   "metadata": {},
   "outputs": [],
   "source": [
    "import pymongo\n",
    "import pandas as pd"
   ]
  },
  {
   "cell_type": "code",
   "execution_count": 14,
   "metadata": {},
   "outputs": [],
   "source": [
    "#load csvs\n",
    "xom_data = \"../Components/XOM.csv\"\n",
    "trv_data = \"../Components/TRV.csv\"\n",
    "pfe_data = \"../Components/PFE.csv\"\n",
    "nke_data = \"../Components/NKE.csv\"\n",
    "mcd_data = \"../Components/MCD.csv\"\n",
    "gs_data = \"../Components/GS.csv\"\n",
    "cvx_data = \"../Components/CVX.csv\"\n",
    "appl_data = \"../Components/AAPL.csv\"\n",
    "axp_data = \"../Components/AXP.csv\"\n",
    "ba_data = \"../Components/BA.csv\"\n",
    "cat_data = \"../Components/CAT.csv\"\n",
    "csco_data = \"../Components/CSCO.csv\"\n",
    "dis_data = \"../Components/DIS.csv\"\n",
    "dow_data = \"../Components/DOW.csv\"\n",
    "hd_data = \"../Components/HD.csv\"\n",
    "ibm_data = \"../Components/IBM.csv\"\n",
    "jnj_data = \"../Components/JNJ.csv\"\n",
    "\n",
    "# Read Purchasing File and store into Pandas data frame\n",
    "appl = pd.read_csv(appl_data)\n",
    "# appl.head()"
   ]
  },
  {
   "cell_type": "code",
   "execution_count": 13,
   "metadata": {},
   "outputs": [],
   "source": [
    "# Connect to MongoDB\n",
    "\n",
    "client = pymongo.MongoClient('localhost',27017)\n",
    "db = client['stocks']"
   ]
  },
  {
   "cell_type": "code",
   "execution_count": null,
   "metadata": {},
   "outputs": [],
   "source": [
    "appl_collection = db['appl']\n",
    "# appl_collection = db['appl']"
   ]
  },
  {
   "cell_type": "code",
   "execution_count": null,
   "metadata": {},
   "outputs": [],
   "source": [
    "appl_db = appl.to_dict(\"records\")\n",
    "# Insert collection into MongoDB\n",
    "collection.insert_many(appl_db)"
   ]
  }
 ],
 "metadata": {
  "kernelspec": {
   "display_name": "Python 3",
   "language": "python",
   "name": "python3"
  },
  "language_info": {
   "codemirror_mode": {
    "name": "ipython",
    "version": 3
   },
   "file_extension": ".py",
   "mimetype": "text/x-python",
   "name": "python",
   "nbconvert_exporter": "python",
   "pygments_lexer": "ipython3",
   "version": "3.7.4"
  }
 },
 "nbformat": 4,
 "nbformat_minor": 2
}
