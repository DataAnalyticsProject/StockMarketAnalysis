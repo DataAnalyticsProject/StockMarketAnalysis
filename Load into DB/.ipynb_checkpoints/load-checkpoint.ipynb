{
 "cells": [
  {
   "cell_type": "code",
   "execution_count": 1,
   "metadata": {},
   "outputs": [],
   "source": [
    "import pymongo\n",
    "import pandas as pd\n",
    "\n",
    "from glob import glob"
   ]
  },
  {
   "cell_type": "code",
   "execution_count": 2,
   "metadata": {},
   "outputs": [
    {
     "data": {
      "text/html": [
       "<div>\n",
       "<style scoped>\n",
       "    .dataframe tbody tr th:only-of-type {\n",
       "        vertical-align: middle;\n",
       "    }\n",
       "\n",
       "    .dataframe tbody tr th {\n",
       "        vertical-align: top;\n",
       "    }\n",
       "\n",
       "    .dataframe thead th {\n",
       "        text-align: right;\n",
       "    }\n",
       "</style>\n",
       "<table border=\"1\" class=\"dataframe\">\n",
       "  <thead>\n",
       "    <tr style=\"text-align: right;\">\n",
       "      <th></th>\n",
       "      <th>Date</th>\n",
       "      <th>Open</th>\n",
       "      <th>High</th>\n",
       "      <th>Low</th>\n",
       "      <th>Close</th>\n",
       "      <th>Adj Close</th>\n",
       "      <th>Volume</th>\n",
       "    </tr>\n",
       "  </thead>\n",
       "  <tbody>\n",
       "    <tr>\n",
       "      <td>0</td>\n",
       "      <td>2020-01-01</td>\n",
       "      <td>145.869995</td>\n",
       "      <td>151.190002</td>\n",
       "      <td>141.380005</td>\n",
       "      <td>148.869995</td>\n",
       "      <td>146.908340</td>\n",
       "      <td>150462900</td>\n",
       "    </tr>\n",
       "    <tr>\n",
       "      <td>1</td>\n",
       "      <td>2020-02-01</td>\n",
       "      <td>149.419998</td>\n",
       "      <td>154.500000</td>\n",
       "      <td>130.820007</td>\n",
       "      <td>134.479996</td>\n",
       "      <td>132.707962</td>\n",
       "      <td>147291500</td>\n",
       "    </tr>\n",
       "    <tr>\n",
       "      <td>2</td>\n",
       "      <td>2020-03-01</td>\n",
       "      <td>134.779999</td>\n",
       "      <td>143.639999</td>\n",
       "      <td>109.160004</td>\n",
       "      <td>131.130005</td>\n",
       "      <td>130.227264</td>\n",
       "      <td>355927400</td>\n",
       "    </tr>\n",
       "    <tr>\n",
       "      <td>3</td>\n",
       "      <td>2020-04-01</td>\n",
       "      <td>127.699997</td>\n",
       "      <td>157.000000</td>\n",
       "      <td>125.500000</td>\n",
       "      <td>150.039993</td>\n",
       "      <td>149.007065</td>\n",
       "      <td>234384100</td>\n",
       "    </tr>\n",
       "    <tr>\n",
       "      <td>4</td>\n",
       "      <td>2020-05-01</td>\n",
       "      <td>149.619995</td>\n",
       "      <td>153.619995</td>\n",
       "      <td>143.009995</td>\n",
       "      <td>148.750000</td>\n",
       "      <td>147.725952</td>\n",
       "      <td>136207400</td>\n",
       "    </tr>\n",
       "  </tbody>\n",
       "</table>\n",
       "</div>"
      ],
      "text/plain": [
       "         Date        Open        High         Low       Close   Adj Close  \\\n",
       "0  2020-01-01  145.869995  151.190002  141.380005  148.869995  146.908340   \n",
       "1  2020-02-01  149.419998  154.500000  130.820007  134.479996  132.707962   \n",
       "2  2020-03-01  134.779999  143.639999  109.160004  131.130005  130.227264   \n",
       "3  2020-04-01  127.699997  157.000000  125.500000  150.039993  149.007065   \n",
       "4  2020-05-01  149.619995  153.619995  143.009995  148.750000  147.725952   \n",
       "\n",
       "      Volume  \n",
       "0  150462900  \n",
       "1  147291500  \n",
       "2  355927400  \n",
       "3  234384100  \n",
       "4  136207400  "
      ]
     },
     "execution_count": 2,
     "metadata": {},
     "output_type": "execute_result"
    }
   ],
   "source": [
    "#load csvs\n",
    "\n",
    "xom_data = \"../Components/XOM.csv\"\n",
    "trv_data = \"../Components/TRV.csv\"\n",
    "pfe_data = \"../Components/PFE.csv\"\n",
    "nke_data = \"../Components/NKE.csv\"\n",
    "mcd_data = \"../Components/MCD.csv\"\n",
    "gs_data = \"../Components/GS.csv\"\n",
    "cvx_data = \"../Components/CVX.csv\"\n",
    "appl_data = \"../Components/AAPL.csv\"\n",
    "axp_data = \"../Components/AXP.csv\"\n",
    "ba_data = \"../Components/BA.csv\"\n",
    "cat_data = \"../Components/CAT.csv\"\n",
    "csco_data = \"../Components/CSCO.csv\"\n",
    "dis_data = \"../Components/DIS.csv\"\n",
    "dow_data = \"../Components/DOW.csv\"\n",
    "hd_data = \"../Components/HD.csv\"\n",
    "ibm_data = \"../Components/IBM.csv\"\n",
    "jnj_data = \"../Components/JNJ.csv\"\n",
    "\n",
    "# Read Purchasing File and store into Pandas data frame\n",
    "\n",
    "appl = pd.read_csv(appl_data)\n",
    "xom = pd.read_csv(xom_data)\n",
    "trv = pd.read_csv(trv_data)\n",
    "pfe = pd.read_csv(pfe_data)\n",
    "nke = pd.read_csv(nke_data)\n",
    "mcd = pd.read_csv(mcd_data)\n",
    "gs = pd.read_csv(gs_data)\n",
    "cvx = pd.read_csv(cvx_data)\n",
    "axp = pd.read_csv(axp_data)\n",
    "ba = pd.read_csv(ba_data)\n",
    "cat = pd.read_csv(cat_data)\n",
    "csco = pd.read_csv(csco_data)\n",
    "dis = pd.read_csv(dis_data)\n",
    "dow = pd.read_csv(dow_data)\n",
    "hd = pd.read_csv(hd_data)\n",
    "ibm = pd.read_csv(ibm_data)\n",
    "jnj = pd.read_csv(jnj_data)\n",
    "\n",
    "jnj.head()"
   ]
  },
  {
   "cell_type": "code",
   "execution_count": 3,
   "metadata": {},
   "outputs": [],
   "source": [
    "# Connect to MongoDB\n",
    "\n",
    "client = pymongo.MongoClient('localhost',27017)\n",
    "db = client['stocks'] #access stocks db"
   ]
  },
  {
   "cell_type": "code",
   "execution_count": 11,
   "metadata": {},
   "outputs": [],
   "source": [
    "# create collections in stocks db\n",
    "applcollection = db['appl']\n",
    "xomcollection = db['xom']\n",
    "trvcollection = db['trv']\n",
    "pfecollection = db['pfe']\n",
    "nkecollection = db['nke']\n",
    "mcdcollection = db['mcd']\n",
    "gscollection = db['gs']\n",
    "cvxcollection = db['cvx']\n",
    "applcollection = db['appl']\n",
    "axpcollection = db['axp']\n",
    "bacollection = db['ba']\n",
    "catcollection = db['cat']\n",
    "cscocollection = db['csco']\n",
    "discollection = db['dis']\n",
    "dowcollection = db['dow']\n",
    "hdcollection = db['hd']\n",
    "hkecollection = db['nke']\n",
    "ibmcollection = db['ibm']\n",
    "jnjcollection = db['jnj']"
   ]
  },
  {
   "cell_type": "code",
   "execution_count": 17,
   "metadata": {},
   "outputs": [],
   "source": [
    "# write all df to dictionaries\n",
    "appl_dt = appl.to_dict(\"records\")\n",
    "xom_dt = xom.to_dict(\"records\")\n",
    "trv_dt = trv.to_dict(\"records\")\n",
    "pfe_dt = pfe.to_dict(\"records\")\n",
    "nke_dt = nke.to_dict(\"records\")\n",
    "mcd_dt = mcd.to_dict(\"records\")\n",
    "gs_dt = gs.to_dict(\"records\")\n",
    "cvx_dt= cvx.to_dict(\"records\")\n",
    "axp_dt = axp.to_dict(\"records\")\n",
    "ba_dt = ba.to_dict(\"records\")\n",
    "cat_dt = cat.to_dict(\"records\")\n",
    "csco_dt = csco.to_dict(\"records\")\n",
    "dis_dt = dis.to_dict(\"records\")\n",
    "dow_dt = dow.to_dict(\"records\")\n",
    "hd_dt = hd.to_dict(\"records\")\n",
    "ibm_dt = ibm.to_dict(\"records\")\n",
    "jnj_dt = jnj.to_dict(\"records\")"
   ]
  },
  {
   "cell_type": "code",
   "execution_count": 18,
   "metadata": {},
   "outputs": [
    {
     "data": {
      "text/plain": [
       "<pymongo.results.InsertManyResult at 0x27b463e1648>"
      ]
     },
     "execution_count": 18,
     "metadata": {},
     "output_type": "execute_result"
    }
   ],
   "source": [
    "# Insert collections into MongoDB\n",
    "xomcollection.insert_many(xom_dt)\n",
    "trvcollection.insert_many(trv_dt)\n",
    "pfecollection.insert_many(pfe_dt)\n",
    "nkecollection.insert_many(nke_dt)\n",
    "gscollection.insert_many(gs_dt)\n",
    "cvxcollection.insert_many(cvx_dt)\n",
    "applcollection.insert_many(appl_dt)\n",
    "axpcollection.insert_many(axp_dt)\n",
    "bacollection.insert_many(ba_dt)\n",
    "catcollection.insert_many(cat_dt)\n",
    "cscocollection.insert_many(csco_dt)\n",
    "discollection.insert_many(dis_dt)\n",
    "dowcollection.insert_many(dow_dt)\n",
    "hdcollection.insert_many(hd_dt)\n",
    "mcdcollection.insert_many(mcd_dt)\n",
    "ibmcollection.insert_many(ibm_dt)\n",
    "jnjcollection.insert_many(jnj_dt)"
   ]
  },
  {
   "cell_type": "code",
   "execution_count": null,
   "metadata": {},
   "outputs": [],
   "source": [
    "# loop to make this efficient later\n",
    "# stock_files = glob('../Components/*.csv')\n",
    "# dfs = [pd.read_csv(f) for f in stock_files]\n",
    "# dfs[0].head()"
   ]
  },
  {
   "cell_type": "code",
   "execution_count": null,
   "metadata": {},
   "outputs": [],
   "source": [
    "# files = xom_data,trv_data,pfe_data,nke_data,mcd_data,gs_data,cvx_data,\n",
    "# appl_data,axp_data,ba_data,cat_data,csco_data,dis_data,dow_data,\n",
    "# hd_data,ibm_data,jnj_data]\n",
    "\n",
    "# collections = [db[x] for x in dfs]\n",
    "# dicts = [x.to_dict(\"records\") for x in collections]\n",
    "# collections.insert_many(x for x)"
   ]
  },
  {
   "cell_type": "code",
   "execution_count": null,
   "metadata": {},
   "outputs": [],
   "source": []
  }
 ],
 "metadata": {
  "kernelspec": {
   "display_name": "Python 3",
   "language": "python",
   "name": "python3"
  },
  "language_info": {
   "codemirror_mode": {
    "name": "ipython",
    "version": 3
   },
   "file_extension": ".py",
   "mimetype": "text/x-python",
   "name": "python",
   "nbconvert_exporter": "python",
   "pygments_lexer": "ipython3",
   "version": "3.7.4"
  }
 },
 "nbformat": 4,
 "nbformat_minor": 2
}
