{
 "cells": [
  {
   "cell_type": "code",
   "execution_count": 1,
   "metadata": {},
   "outputs": [],
   "source": [
    "from bs4 import BeautifulSoup as bs\n",
    "from splinter import Browser\n",
    "import pandas as pd\n",
    "import time\n",
    "import datetime as dt"
   ]
  },
  {
   "cell_type": "code",
   "execution_count": 2,
   "metadata": {},
   "outputs": [
    {
     "data": {
      "text/plain": [
       "'1997-05-15 00:00:00'"
      ]
     },
     "execution_count": 2,
     "metadata": {},
     "output_type": "execute_result"
    }
   ],
   "source": [
    "# from website\n",
    "ts = int(863654400)\n",
    "date_found = dt.datetime.utcfromtimestamp(ts).strftime('%Y-%m-%d %H:%M:%S')\n",
    "date_found"
   ]
  },
  {
   "cell_type": "code",
   "execution_count": 3,
   "metadata": {},
   "outputs": [
    {
     "data": {
      "text/plain": [
       "1591488000.0"
      ]
     },
     "execution_count": 3,
     "metadata": {},
     "output_type": "execute_result"
    }
   ],
   "source": [
    "# get the start date in unix time\n",
    "# HTTP request asks for this\n",
    "d = dt.date(2020,6,6)\n",
    "\n",
    "# it appears (there is a 2 hour timezone difference)\n",
    "unixtime_start = time.mktime(d.timetuple()) + 72000\n",
    "unixtime_start"
   ]
  },
  {
   "cell_type": "code",
   "execution_count": 4,
   "metadata": {},
   "outputs": [
    {
     "data": {
      "text/plain": [
       "863654400.0"
      ]
     },
     "execution_count": 4,
     "metadata": {},
     "output_type": "execute_result"
    }
   ],
   "source": [
    "# get the end date in unix time\n",
    "# HTTP request asks for this\n",
    "d = dt.date(1997,5,14)\n",
    "\n",
    "# it appears (there is a 2 hour timezone difference)\n",
    "unixtime_end = time.mktime(d.timetuple()) + 72000\n",
    "unixtime_end"
   ]
  },
  {
   "cell_type": "code",
   "execution_count": 5,
   "metadata": {},
   "outputs": [
    {
     "name": "stdout",
     "output_type": "stream",
     "text": [
      "(5807, 7)\n",
      "Index(['Date', 'Open', 'High', 'Low', 'Close*', 'Adj Close**', 'Volume'], dtype='object')\n"
     ]
    },
    {
     "data": {
      "text/html": [
       "<div>\n",
       "<style scoped>\n",
       "    .dataframe tbody tr th:only-of-type {\n",
       "        vertical-align: middle;\n",
       "    }\n",
       "\n",
       "    .dataframe tbody tr th {\n",
       "        vertical-align: top;\n",
       "    }\n",
       "\n",
       "    .dataframe thead th {\n",
       "        text-align: right;\n",
       "    }\n",
       "</style>\n",
       "<table border=\"1\" class=\"dataframe\">\n",
       "  <thead>\n",
       "    <tr style=\"text-align: right;\">\n",
       "      <th></th>\n",
       "      <th>Date</th>\n",
       "      <th>Open</th>\n",
       "      <th>High</th>\n",
       "      <th>Low</th>\n",
       "      <th>Close*</th>\n",
       "      <th>Adj Close**</th>\n",
       "      <th>Volume</th>\n",
       "    </tr>\n",
       "  </thead>\n",
       "  <tbody>\n",
       "    <tr>\n",
       "      <th>0</th>\n",
       "      <td>Jun. 05, 2020</td>\n",
       "      <td>2444.51</td>\n",
       "      <td>2488.65</td>\n",
       "      <td>2437.13</td>\n",
       "      <td>2483.00</td>\n",
       "      <td>2483.00</td>\n",
       "      <td>3304000</td>\n",
       "    </tr>\n",
       "    <tr>\n",
       "      <th>1</th>\n",
       "      <td>Jun. 04, 2020</td>\n",
       "      <td>2477.43</td>\n",
       "      <td>2507.54</td>\n",
       "      <td>2450.01</td>\n",
       "      <td>2460.60</td>\n",
       "      <td>2460.60</td>\n",
       "      <td>2948700</td>\n",
       "    </tr>\n",
       "    <tr>\n",
       "      <th>2</th>\n",
       "      <td>Jun. 03, 2020</td>\n",
       "      <td>2468.01</td>\n",
       "      <td>2488.00</td>\n",
       "      <td>2461.17</td>\n",
       "      <td>2478.40</td>\n",
       "      <td>2478.40</td>\n",
       "      <td>2671000</td>\n",
       "    </tr>\n",
       "    <tr>\n",
       "      <th>3</th>\n",
       "      <td>Jun. 02, 2020</td>\n",
       "      <td>2467.00</td>\n",
       "      <td>2473.53</td>\n",
       "      <td>2445.31</td>\n",
       "      <td>2472.41</td>\n",
       "      <td>2472.41</td>\n",
       "      <td>2529900</td>\n",
       "    </tr>\n",
       "    <tr>\n",
       "      <th>4</th>\n",
       "      <td>Jun. 01, 2020</td>\n",
       "      <td>2448.00</td>\n",
       "      <td>2476.93</td>\n",
       "      <td>2444.17</td>\n",
       "      <td>2471.04</td>\n",
       "      <td>2471.04</td>\n",
       "      <td>2928900</td>\n",
       "    </tr>\n",
       "  </tbody>\n",
       "</table>\n",
       "</div>"
      ],
      "text/plain": [
       "            Date     Open     High      Low   Close* Adj Close**   Volume\n",
       "0  Jun. 05, 2020  2444.51  2488.65  2437.13  2483.00     2483.00  3304000\n",
       "1  Jun. 04, 2020  2477.43  2507.54  2450.01  2460.60     2460.60  2948700\n",
       "2  Jun. 03, 2020  2468.01  2488.00  2461.17  2478.40     2478.40  2671000\n",
       "3  Jun. 02, 2020  2467.00  2473.53  2445.31  2472.41     2472.41  2529900\n",
       "4  Jun. 01, 2020  2448.00  2476.93  2444.17  2471.04     2471.04  2928900"
      ]
     },
     "execution_count": 5,
     "metadata": {},
     "output_type": "execute_result"
    }
   ],
   "source": [
    "# check you version of chrome browser\n",
    "# use the compatible chromedriver.exe\n",
    "# mine is 'ChromeDriver 83.0.4103.39'\n",
    "# 'https://chromedriver.chromium.org/downloads'\n",
    "executable_path = {'executable_path':'./chromedriver.exe'}\n",
    "\n",
    "# use Python context manager (with) so I do not need\n",
    "# to call browser.quit() at the end\n",
    "# instead Python will manage that for me :)\n",
    "with Browser('chrome', **executable_path) as browser:\n",
    "    # URL creation for HTTP request\n",
    "    stock_ticker = \"AMZN\"\n",
    "    tab_selection = \"history\"\n",
    "    period2 = int(unixtime_start)\n",
    "    period1 = int(unixtime_end)\n",
    "    interval = \"1d\"\n",
    "    filter_stocks = \"history&frequency=1d\"\n",
    "    # custom URL\n",
    "    # 'https://ca.finance.yahoo.com/quote/AMZN/history?period1=863654400&period2=1591488000&interval=1d&filter=history&frequency=1d'\n",
    "    url = (\n",
    "           f\"https://ca.finance.yahoo.com/quote/\" +\n",
    "           f\"{stock_ticker}/{tab_selection}?period1={period1}\" +\n",
    "           f\"&period2={period2}&interval={interval}&\" +\n",
    "           f\"filter={filter_stocks}\"\n",
    "           )\n",
    "    # visit the url\n",
    "    browser.visit(url)\n",
    "    # sleep on the page for a couple of seconds cause it is\n",
    "    # resource intensive\n",
    "    time.sleep(6)\n",
    "    # this while loop will scroll through the infinitely scrolling\n",
    "    # element\n",
    "    # this will allow for the HTML table (that is dynamically generated)\n",
    "    # to be in the HTML\n",
    "    # get the current height of the <div id=render-target-default>\n",
    "    lastHeight = browser.execute_script(r\"return document.querySelector('#render-target-default').scrollHeight\")\n",
    "    while True:\n",
    "        # scroll to the bottom of the div\n",
    "        browser.execute_script(\"window.scrollTo(0, document.querySelector('#render-target-default').scrollHeight);\")\n",
    "        time.sleep(1)\n",
    "        # check for the new height of the div\n",
    "        newHeight = browser.execute_script(\"return document.querySelector('#render-target-default').scrollHeight\")\n",
    "        # if the new height and the last height are the same\n",
    "        # then shut down the while loop\n",
    "        if newHeight == lastHeight:\n",
    "            break\n",
    "        # set the last Height to the new height and iterate again\n",
    "        lastHeight = newHeight\n",
    "        \n",
    "    # use pandas.read_html() to get the html table as a\n",
    "    # pandas dataframe\n",
    "    html = browser.html\n",
    "    soup = bs(html, \"html.parser\")\n",
    "    df_list = pd.read_html(html)\n",
    "    df = df_list[0]\n",
    "\n",
    "# show some data that was scraped from the HTML table\n",
    "print(df.shape)\n",
    "print(df.columns)\n",
    "df.head()"
   ]
  }
 ],
 "metadata": {
  "kernelspec": {
   "display_name": "Python 3",
   "language": "python",
   "name": "python3"
  },
  "language_info": {
   "codemirror_mode": {
    "name": "ipython",
    "version": 3
   },
   "file_extension": ".py",
   "mimetype": "text/x-python",
   "name": "python",
   "nbconvert_exporter": "python",
   "pygments_lexer": "ipython3",
   "version": "3.7.4"
  }
 },
 "nbformat": 4,
 "nbformat_minor": 4
}
